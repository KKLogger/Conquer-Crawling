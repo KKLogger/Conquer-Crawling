{
 "cells": [
  {
   "cell_type": "code",
   "execution_count": 1,
   "metadata": {},
   "outputs": [],
   "source": [
    "from selenium import webdriver\n",
    "from selenium.webdriver.support.ui import WebDriverWait\n",
    "from selenium.webdriver.support import expected_conditions as EC\n",
    "from selenium.webdriver.common.by import By\n",
    "\n",
    "driver = webdriver.Chrome('./chromedriver.exe')\n",
    "\n",
    "driver.get('https://www.facebook.com/')\n",
    "assert 'Facebook' in driver.title"
   ]
  },
  {
   "cell_type": "code",
   "execution_count": 2,
   "metadata": {},
   "outputs": [],
   "source": [
    "from selenium.webdriver.common.keys import Keys\n",
    "import time\n",
    "\n",
    "user_id = '01025302359'\n",
    "user_pw = 'ehlswkd1!!'\n",
    "ID_xpath = '//*[@id=\"email\"]'\n",
    "PW_xpath = '//*[@id=\"pass\"]'\n",
    "login_xpath = '//*[@id=\"u_0_b\"]'\n",
    "\n",
    "ID_tag = WebDriverWait(driver,3).until(EC.presence_of_element_located((By.XPATH,ID_xpath)))\n",
    "PW_tag = WebDriverWait(driver,3).until(EC.presence_of_element_located((By.XPATH,PW_xpath)))\n",
    "login_tag = WebDriverWait(driver,3).until(EC.presence_of_element_located((By.XPATH,login_xpath)))\n",
    "#WebDriverWait 은 find_element와 같이 태그의 주소를 반환합니다.\n",
    "\n",
    "\n",
    "\n",
    "# ID_input = driver.find_element_by_xpath(ID_xpath)\n",
    "# PW_input = driver.find_element_by_xpath(PW_xpath)\n",
    "# login_button = driver.find_element_by_xpath(login_xpath)\n",
    "\n",
    "ID_tag.clear()\n",
    "ID_tag.send_keys(user_id)\n",
    "\n",
    "PW_tag.clear()\n",
    "PW_tag.send_keys(user_pw)\n",
    "\n",
    "login_tag.click()\n",
    "\n",
    "time.sleep(5)"
   ]
  },
  {
   "cell_type": "code",
   "execution_count": 3,
   "metadata": {},
   "outputs": [],
   "source": [
    "driver.quit()"
   ]
  },
  {
   "cell_type": "code",
   "execution_count": null,
   "metadata": {},
   "outputs": [],
   "source": []
  }
 ],
 "metadata": {
  "kernelspec": {
   "display_name": "crawling",
   "language": "python",
   "name": "crawling"
  },
  "language_info": {
   "codemirror_mode": {
    "name": "ipython",
    "version": 3
   },
   "file_extension": ".py",
   "mimetype": "text/x-python",
   "name": "python",
   "nbconvert_exporter": "python",
   "pygments_lexer": "ipython3",
   "version": "3.8.5"
  }
 },
 "nbformat": 4,
 "nbformat_minor": 4
}
