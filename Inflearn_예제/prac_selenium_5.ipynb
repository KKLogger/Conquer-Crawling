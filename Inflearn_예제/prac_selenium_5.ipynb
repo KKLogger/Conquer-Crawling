{
 "cells": [
  {
   "cell_type": "code",
   "execution_count": 4,
   "metadata": {},
   "outputs": [
    {
     "name": "stdout",
     "output_type": "stream",
     "text": [
      "강기정, 김봉현 고소 \"5000만원? 라임에서 1원도 안 받았다\"\n"
     ]
    }
   ],
   "source": [
    "from selenium import webdriver\n",
    "\n",
    "\n",
    "headless_options = webdriver.ChromeOptions()\n",
    "headless_options.add_argument('headless')\n",
    "headless_options.add_argument('window-size=1920x1080')\n",
    "headless_options.add_argument('disable-gpu')\n",
    "headless_options.add_argument('lang=ko_KR')\n",
    "headless_options.add_argument('Mozilla/5.0 (Windows NT 10.0; Win64; x64) AppleWebKit/537.36 (KHTML, like Gecko) Chrome/86.0.4240.75 Safari/537.36')\n",
    "driver = webdriver.Chrome('./chromedriver.exe',options = headless_options)\n",
    "driver.get('https://news.v.daum.net/v/20201012132010443')\n",
    "title = driver.find_element_by_xpath('//title')\n",
    "\n",
    "print(title.get_attribute('text'))\n",
    "driver.quit()"
   ]
  },
  {
   "cell_type": "code",
   "execution_count": null,
   "metadata": {},
   "outputs": [],
   "source": [
    "# 문서 내 태그 검색\n",
    "title = driver.find_element_by_xpath('//title')\n",
    "# 절대 경로 이용\n",
    "title = driver.find_element_by_xpath('/html/head/title')\n",
    "# html 태그 내에서 다시 검색\n",
    "title = driver.find_element_by_xpath('/html//title')\n",
    "\n",
    "# soup.find('h3',attrs = {'class' : 'tit_s'})  => 속성과 속성명 이용\n",
    "title_content = driver.find_element_by_xpath('//h3[@class=\"tit_view\"]')"
   ]
  },
  {
   "cell_type": "code",
   "execution_count": null,
   "metadata": {},
   "outputs": [],
   "source": []
  }
 ],
 "metadata": {
  "kernelspec": {
   "display_name": "crawling",
   "language": "python",
   "name": "crawling"
  },
  "language_info": {
   "codemirror_mode": {
    "name": "ipython",
    "version": 3
   },
   "file_extension": ".py",
   "mimetype": "text/x-python",
   "name": "python",
   "nbconvert_exporter": "python",
   "pygments_lexer": "ipython3",
   "version": "3.8.5"
  }
 },
 "nbformat": 4,
 "nbformat_minor": 4
}
