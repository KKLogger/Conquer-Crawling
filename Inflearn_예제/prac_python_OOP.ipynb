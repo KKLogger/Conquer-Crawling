{
 "cells": [
  {
   "cell_type": "code",
   "execution_count": 2,
   "metadata": {},
   "outputs": [],
   "source": [
    "#class 선언 \n",
    "class Quad():\n",
    "    #attribute\n",
    "    height = 0 \n",
    "    width = 0 \n",
    "    color = ''\n",
    "    name = 'Quad'\n",
    "    #method\n",
    "    def get_area(self):\n",
    "        return self.height * self.width\n",
    "    def quad_name(self):\n",
    "        return self.name"
   ]
  },
  {
   "cell_type": "code",
   "execution_count": 3,
   "metadata": {},
   "outputs": [],
   "source": [
    "# Object 생성\n",
    "quad1 = Quad()\n",
    "quad2 = Quad()"
   ]
  },
  {
   "cell_type": "code",
   "execution_count": 11,
   "metadata": {},
   "outputs": [
    {
     "name": "stdout",
     "output_type": "stream",
     "text": [
      "10 5\n"
     ]
    },
    {
     "data": {
      "text/plain": [
       "'red quad'"
      ]
     },
     "execution_count": 11,
     "metadata": {},
     "output_type": "execute_result"
    }
   ],
   "source": [
    "# 객체 기능 호출 \n",
    "quad1.height = 10\n",
    "quad1.width = 10\n",
    "quad1.color = 'blue'\n",
    "quad1.name = 'blue quad'\n",
    "\n",
    "quad2.height = 5\n",
    "quad2.width = 5\n",
    "quad2.color ='red'\n",
    "quad2.name = 'red quad'\n",
    "print(quad1.height,quad2.height)\n",
    "\n",
    "quad1.quad_name() # blue quad\n",
    "quad2.quad_name() # red quad\\\n",
    "\n",
    "Quad.quad_name(quad1) # blue quad\n",
    "Quad.quad_name(quad2) # red quad"
   ]
  },
  {
   "cell_type": "code",
   "execution_count": null,
   "metadata": {},
   "outputs": [],
   "source": []
  }
 ],
 "metadata": {
  "kernelspec": {
   "display_name": "crawling",
   "language": "python",
   "name": "crawling"
  },
  "language_info": {
   "codemirror_mode": {
    "name": "ipython",
    "version": 3
   },
   "file_extension": ".py",
   "mimetype": "text/x-python",
   "name": "python",
   "nbconvert_exporter": "python",
   "pygments_lexer": "ipython3",
   "version": "3.8.5"
  }
 },
 "nbformat": 4,
 "nbformat_minor": 4
}
