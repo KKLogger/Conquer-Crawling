{
 "cells": [
  {
   "cell_type": "code",
   "execution_count": 1,
   "metadata": {},
   "outputs": [],
   "source": [
    "\n",
    "# Load Selenium\n",
    "from selenium import webdriver\n",
    "from selenium.webdriver.common.keys import Keys\n",
    "import time\n",
    "\n",
    "chromedriver = './chromedriver.exe'\n",
    "driver = webdriver.Chrome(chromedriver)"
   ]
  },
  {
   "cell_type": "code",
   "execution_count": 2,
   "metadata": {},
   "outputs": [],
   "source": [
    "# Web Page Load\n",
    "driver.get('http://www.python.org')\n",
    "# print(driver.title) -> 크롬 상단의 탭이름 (페이지 이름)\n",
    "assert \"Python\" in driver.title # 드라이버가 들어간 페이지에 \"Python\"이라는 문장이 driver.title에 없으면 error 를 반환하라\n",
    "\n",
    "# 크롤링 사이트 정보 확인\n",
    "print(driver.current_url)\n",
    "print(driver.title)"
   ]
  },
  {
   "cell_type": "code",
   "execution_count": 3,
   "metadata": {},
   "outputs": [],
   "source": [
    "#태그의 name 속성이 \"q\" 인 태그를 찾는다\n",
    "\n",
    "elem = driver.find_element_by_name(\"q\")\n",
    "# elem = driver.find_elements_by_name(\"q\")\n"
   ]
  },
  {
   "cell_type": "code",
   "execution_count": 4,
   "metadata": {},
   "outputs": [
    {
     "name": "stdout",
     "output_type": "stream",
     "text": [
      "Results\n",
      "Download Python for Other Platforms\n",
      "Python Documentation by Version\n",
      "Release – Python 2.5.3\n",
      "Python 2.5.4 Release\n",
      "Release – Python 2.5.4\n",
      "Python 2.5.3 Release\n",
      "Python 2.5 Release\n",
      "Python 2.5.2 Release\n",
      "Python 2.5.1 Release\n",
      "Sunsetting Python 2\n",
      "Release – Python 2.5.0\n",
      "Release – Python 3.1.4\n",
      "Release – Python 2.5.2\n",
      "Python 3.1.4 Release\n",
      "Python 3.1.3 Release\n",
      "Release – Python 2.5.1\n",
      "Python 3.2.1 Release\n",
      "Release – Python 2.7.9rc1\n",
      "Python 3.0 Release\n",
      "Python 3.2.5 Release\n"
     ]
    }
   ],
   "source": [
    "#Web Driver 동작\n",
    "\n",
    "\n",
    "#해당 태그의 텍스트 초기화\n",
    "elem.clear()\n",
    "\n",
    "#키 이벤트 전송\n",
    "elem.send_keys('python')\n",
    "\n",
    "#엔터 입력\n",
    "elem.send_keys(Keys.RETURN)\n",
    "#dir(Keys) 로 다른 key들을 확인할 수 있습니다.\n",
    "\n",
    "#원하는 부분에서 특정 키워드 확인\n",
    "assert \"No results found.\" not in driver.page_source\n",
    "#page_source -> 페이지에서 우클릭 후 소스보기 했을때의 소스파일\n",
    "#명시적으로 일정 시간을 기다릴 수 있음 -> 2초 (검색이 되는 시간을 기다려줍니다)\n",
    "time.sleep(2)\n",
    "\n",
    "h3s = driver.find_elements_by_tag_name('h3')\n",
    "for h3 in h3s:\n",
    "    print(h3.text)\n",
    "# 드라이버 종료 = 브라우저 닫기\n",
    "driver.quit()"
   ]
  },
  {
   "cell_type": "code",
   "execution_count": null,
   "metadata": {},
   "outputs": [],
   "source": []
  }
 ],
 "metadata": {
  "kernelspec": {
   "display_name": "crawling",
   "language": "python",
   "name": "crawling"
  },
  "language_info": {
   "codemirror_mode": {
    "name": "ipython",
    "version": 3
   },
   "file_extension": ".py",
   "mimetype": "text/x-python",
   "name": "python",
   "nbconvert_exporter": "python",
   "pygments_lexer": "ipython3",
   "version": "3.8.5"
  }
 },
 "nbformat": 4,
 "nbformat_minor": 4
}
