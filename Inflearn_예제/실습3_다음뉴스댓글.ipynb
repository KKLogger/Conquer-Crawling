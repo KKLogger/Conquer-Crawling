{
 "cells": [
  {
   "cell_type": "code",
   "execution_count": 1,
   "metadata": {},
   "outputs": [],
   "source": [
    "from selenium import webdriver \n",
    "\n",
    "chromewebdriver = './chromedriver.exe'\n",
    "driver = webdriver.Chrome(chromewebdriver)\n",
    "\n",
    "driver.get('https://news.v.daum.net/v/20201012074702514')\n",
    "\n",
    "assert '방사선' in driver.title"
   ]
  },
  {
   "cell_type": "code",
   "execution_count": 2,
   "metadata": {},
   "outputs": [
    {
     "name": "stdout",
     "output_type": "stream",
     "text": [
      "click\n",
      "click\n",
      "no button\n"
     ]
    }
   ],
   "source": [
    "from selenium.webdriver.support.ui import WebDriverWait\n",
    "from selenium.webdriver.support import expected_conditions as EC\n",
    "from selenium.common.exceptions import TimeoutException\n",
    "from selenium.webdriver.common.by import By\n",
    "import time\n",
    "loop, count =True, 0\n",
    "while loop and count < 10:\n",
    "    try :\n",
    "        element = WebDriverWait(driver,3).until(\n",
    "            EC.presence_of_element_located((By.CSS_SELECTOR,\"button[class='link_fold #more']\"))\n",
    "        )\n",
    "        button = driver.find_element_by_css_selector(\"button[class='link_fold #more']\")\n",
    "#         button.click()\n",
    "        #ActionChains 사용\n",
    "        webdriver.ActionChains(driver).click(button).perform()\n",
    "        count+=1\n",
    "        time.sleep(1)\n",
    "        print('click')\n",
    "    except TimeoutException:\n",
    "        print('no button')\n",
    "        loop = False"
   ]
  },
  {
   "cell_type": "code",
   "execution_count": 3,
   "metadata": {},
   "outputs": [
    {
     "name": "stdout",
     "output_type": "stream",
     "text": [
      "0 \n",
      " 아~  승무원만의 문제가 아니라\n",
      "\n",
      "비행기타면 그렇군\n",
      "---------------------------------------------------------\n",
      "\n",
      "1 \n",
      " 깔끔한 복장 빼고는 돈도 집도 아무것도 없다\n",
      "---------------------------------------------------------\n",
      "\n",
      "2 \n",
      " 빨리 인공지능형 로봇으로 대체 되어야 겟군요\n",
      "---------------------------------------------------------\n",
      "\n",
      "3 \n",
      " 국제선 타는 애들은 임신도 잘 안되고 되더라도 유산도 잘되고 그런다더라.\n",
      "---------------------------------------------------------\n",
      "\n",
      "4 \n",
      " 어쩔 수 없다니? 사람 갈아서 운영하고 있다는 기사에 할 말이냐? \n",
      "\n",
      "비행기를 낮게+북극 남극 좀 돌아가면 되는데, 기름 아끼겠다고 그쪽으로 다니니까 그렇지.\n",
      "\n",
      " 너희는 근무하다가 근무지때문에 병걸려도 아닥하고 있을래?\n",
      "---------------------------------------------------------\n",
      "\n",
      "5 \n",
      " 근데  검진이나 치료땜에  엑스레이.CT 주기적으로찍는 사람들은.... 한방에 피폭되는 방사선량이  엄청날텐데....저정도면 양호한것 아닌가요??  비행으로 유럽가는 사람들..1회당 피폭량 0.05~0.07밀리시버트..   엑스레이한번만 찍어도 0.5밀리시버트.. 폐ct 10밀리시버트.  암투병시치료목적방사선 은 상상초월이던데...\n",
      "---------------------------------------------------------\n",
      "\n",
      "6 \n",
      " 이 사실에 기장들은 좀 더 낮게 날으려고 하고 회사는 기름값 절약해야 한다고 좀 더 높데 날으려고 한다는 사실...이러다 보니 안 짤리려면 피폭량을 무릅쓰더래도 높게 날아야만 한다는 지인의 기장의 말....ㅠㅠㅠ\n",
      "---------------------------------------------------------\n",
      "\n",
      "7 \n",
      " 북미노선 2번만 왕복해도 연간 피폭허용치를 넘어간다.\n",
      "결코 좋은 직업은 아닐듯...\n",
      "---------------------------------------------------------\n",
      "\n",
      "8 \n",
      " 첫줄에 조종아니냐?\n",
      "우리말이 너무 어렵지?\n",
      "---------------------------------------------------------\n",
      "\n",
      "9 \n",
      " 아는분이 승무원 출신인데, 애가 안생겨요.  그런분들이 좀 되나보더라구요. 오래할 직업은 아닌듯.\n",
      "---------------------------------------------------------\n",
      "\n",
      "10 \n",
      " 나라가 후질수록 여자인권이 낮고 그런나라일수록 승무원이 이쁘다\n",
      "---------------------------------------------------------\n",
      "\n",
      "11 \n",
      " 항공기를 조정하는 ==⟩ 항공기를 조종하는  이 맞습니다\n",
      "---------------------------------------------------------\n",
      "\n",
      "12 \n",
      " \"항공기를 조정하는\" 요즘 기자들은 우리말도 제대로 몰라~ 조종한다고 써야지, 으이그~\n",
      "---------------------------------------------------------\n",
      "\n"
     ]
    }
   ],
   "source": [
    "reply_list = driver.find_elements_by_css_selector('p[class=\"desc_txt font_size_17\"]')\n",
    "\n",
    "for num,reply in enumerate(reply_list):\n",
    "    print(num,'\\n',reply.text+\"\\n---------------------------------------------------------\\n\")"
   ]
  },
  {
   "cell_type": "code",
   "execution_count": 4,
   "metadata": {},
   "outputs": [],
   "source": [
    "driver.quit()"
   ]
  },
  {
   "cell_type": "code",
   "execution_count": null,
   "metadata": {},
   "outputs": [],
   "source": []
  }
 ],
 "metadata": {
  "kernelspec": {
   "display_name": "crawling",
   "language": "python",
   "name": "crawling"
  },
  "language_info": {
   "codemirror_mode": {
    "name": "ipython",
    "version": 3
   },
   "file_extension": ".py",
   "mimetype": "text/x-python",
   "name": "python",
   "nbconvert_exporter": "python",
   "pygments_lexer": "ipython3",
   "version": "3.8.5"
  }
 },
 "nbformat": 4,
 "nbformat_minor": 4
}
